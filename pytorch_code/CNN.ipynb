{
 "cells": [
  {
   "cell_type": "code",
   "execution_count": 1,
   "metadata": {},
   "outputs": [],
   "source": [
    "import torch\n",
    "import torch.nn as nn\n",
    "import torch.utils.data as Data\n",
    "import torchvision\n",
    "import matplotlib.pyplot as plt"
   ]
  },
  {
   "cell_type": "code",
   "execution_count": 2,
   "metadata": {},
   "outputs": [],
   "source": [
    "EPOCH = 1\n",
    "BATCH_SIZE = 50\n",
    "LR = 0.001\n",
    "DOWNLOAD_MINIST = True\n",
    "\n",
    "train_data = torchvision.datasets.MNIST(root='./MNIST_data',train=True,transform=torchvision.transforms.ToTensor(),download=DOWNLOAD_MINIST)"
   ]
  },
  {
   "cell_type": "code",
   "execution_count": 3,
   "metadata": {},
   "outputs": [
    {
     "name": "stdout",
     "output_type": "stream",
     "text": [
      "torch.Size([60000, 28, 28])\n",
      "torch.Size([60000])\n"
     ]
    },
    {
     "data": {
      "image/png": "[encoded data removed]",
      "text/plain": [
       "<Figure size 432x288 with 1 Axes>"
      ]
     },
     "metadata": {
      "needs_background": "light"
     },
     "output_type": "display_data"
    }
   ],
   "source": [
    "#plot one example\n",
    "print(train_data.train_data.size()) #(60000,28,28)\n",
    "print(train_data.train_labels.size())#(60000)\n",
    "plt.imshow(train_data.train_data[0].numpy(),cmap='gray')\n",
    "plt.title('%i' % train_data.train_labels[0])\n",
    "plt.show()"
   ]
  },
  {
   "cell_type": "code",
   "execution_count": 4,
   "metadata": {},
   "outputs": [],
   "source": [
    "train_loader = Data.DataLoader(dataset=train_data,batch_size=BATCH_SIZE,shuffle=True)\n",
    "\n",
    "#pick 2000 sample to speed up testing\n",
    "test_data = torchvision.datasets.MNIST(root='./MNIST_data/',train=False)\n",
    "test_x = torch.unsqueeze(test_data.test_data,dim=1).type(torch.FloatTensor)[:2000]/255.\n",
    "test_y = test_data.test_labels[:2000]"
   ]
  },
  {
   "cell_type": "code",
   "execution_count": 5,
   "metadata": {},
   "outputs": [],
   "source": [
    "class CNN(nn.Module):\n",
    "    def __init__(self):\n",
    "        super(CNN,self).__init__()\n",
    "        #（1，28，28）维度\n",
    "        self.conv1 = nn.Sequential(#kernel_size=5 5*5区域扫描,padding=(kernel_size-1)/2\n",
    "            nn.Conv2d(in_channels=1,out_channels=16,kernel_size=5,stride=1,padding=2,\n",
    "            ),#output shape（16，28，28）\n",
    "            nn.ReLU(),\n",
    "            nn.MaxPool2d(kernel_size=2,),#-->(16,14,14)\n",
    "        )\n",
    "        #out_channels=16,16*pool(2)=32,kernel_size=5,stride=1,padding=2\n",
    "        #inputshape (16,14,14)\n",
    "        self.conv2 = nn.Sequential(nn.Conv2d(16,32,5,1,2),#output shape(32,14,14)\n",
    "                                   nn.ReLU(),\n",
    "                                   nn.MaxPool2d(kernel_size=2)#-->(32,7,7)\n",
    "        )\n",
    "        #out 32*7*7，10个分类(0-9)\n",
    "        self.out = nn.Linear(32*7*7,10)\n",
    "    def forward(self,x):\n",
    "        x = self.conv1(x)\n",
    "        x = self.conv2(x)#(batch,32,7,7)\n",
    "        x = x.view(x.size(0),-1)#展平操作  (batch,32,7,7)\n",
    "        output = self.out(x)\n",
    "        return output,x"
   ]
  },
  {
   "cell_type": "code",
   "execution_count": 6,
   "metadata": {},
   "outputs": [
    {
     "name": "stdout",
     "output_type": "stream",
     "text": [
      "CNN(\n",
      "  (conv1): Sequential(\n",
      "    (0): Conv2d(1, 16, kernel_size=(5, 5), stride=(1, 1), padding=(2, 2))\n",
      "    (1): ReLU()\n",
      "    (2): MaxPool2d(kernel_size=2, stride=2, padding=0, dilation=1, ceil_mode=False)\n",
      "  )\n",
      "  (conv2): Sequential(\n",
      "    (0): Conv2d(16, 32, kernel_size=(5, 5), stride=(1, 1), padding=(2, 2))\n",
      "    (1): ReLU()\n",
      "    (2): MaxPool2d(kernel_size=2, stride=2, padding=0, dilation=1, ceil_mode=False)\n",
      "  )\n",
      "  (out): Linear(in_features=1568, out_features=10, bias=True)\n",
      ")\n"
     ]
    }
   ],
   "source": [
    "cnn = CNN()\n",
    "print(cnn)"
   ]
  },
  {
   "cell_type": "code",
   "execution_count": 7,
   "metadata": {},
   "outputs": [],
   "source": [
    "optimizer = torch.optim.Adam(cnn.parameters(),lr=LR)\n",
    "#parameter\n",
    "loss_func = nn.CrossEntropyLoss()"
   ]
  },
  {
   "cell_type": "code",
   "execution_count": 8,
   "metadata": {},
   "outputs": [],
   "source": [
    "from matplotlib import cm\n",
    "try: \n",
    "    from sklearn.manifold import TSNE#TSNE聚类可视化\n",
    "    HAS_SK = True\n",
    "except: \n",
    "    HAS_SK = False\n",
    "    print('Please install sklearn for layer visualization')\n",
    "def plot_with_labels(lowDWeights,labels):\n",
    "    plt.cla()\n",
    "    X, Y = lowDWeights[:,0],lowDWeights[:,1]\n",
    "    for x,y,s in zip(X,Y,labels):\n",
    "        c = cm.rainbow(int(255*s/9))\n",
    "        plt.text(x,y,s,backgroundcolor=c,fontsize=9)\n",
    "    plt.xlim(X.min(),X.max())\n",
    "    plt.ylim(Y.min(),Y.max())\n",
    "    plt.title('Visualize last layer')\n",
    "    plt.show()\n",
    "    plt.pause(0.01)\n",
    "plt.ion()      \n",
    "        "
   ]
  },
  {
   "cell_type": "code",
   "execution_count": null,
   "metadata": {},
   "outputs": [
    {
     "name": "stdout",
     "output_type": "stream",
     "text": [
      "Epoch:  0 | train loss: 2.3147 | test accuracy: 0.11\n"
     ]
    }
   ],
   "source": [
    "for epoch in range(EPOCH):\n",
    "    #x,y\n",
    "    for step, (b_x,b_y) in enumerate(train_loader):\n",
    "        output = cnn(b_x)[0]\n",
    "        loss = loss_func(output,b_y)    # cross entropy loss\n",
    "        optimizer.zero_grad()           # clear gradients for this training step\n",
    "        loss.backward()                 # backpropagation, compute gradients\n",
    "        optimizer.step()                # apply gradients\n",
    "        \n",
    "        if step % 100 == 0:\n",
    "            test_output,last_layer = cnn(test_x)\n",
    "            pred_y = torch.max(test_output,1)[1].data.numpy()#得到预测结果\n",
    "            #求准确率\n",
    "            accuracy = float((pred_y == test_y.data.numpy()).astype(int).sum())/float(test_y.size(0))\n",
    "            #打印结果\n",
    "            print('Epoch: ',epoch,'| train loss: %.4f' % loss.data.numpy(),'| test accuracy: %.2f' % accuracy)\n",
    "            if HAS_SK:\n",
    "                tsne = TSNE(perplexity=30,n_components=2,init='pca',n_iter=5000)\n",
    "                plot_only = 500#\n",
    "                low_dim_embs = tsne.fit_transform(last_layer.data.numpy()[:plot_only,:])##进行数据降维,降成两维\n",
    "                labels = test_y.numpy()[:plot_only]\n",
    "                plot_with_labels(low_dim_embs,labels)\n",
    "\n",
    "plt.ioff()\n",
    "\n",
    "#print 10 predictions from test data\n",
    "test_output,_ = cnn(test_x[:10])\n",
    "pred_y = torch.max(test_output,1)[1].data.numpy()\n",
    "print(pred_y,'prediction number')\n",
    "print(test_y[:10].numpy(),'real number')  \n"
   ]
  },
  {
   "cell_type": "code",
   "execution_count": null,
   "metadata": {},
   "outputs": [],
   "source": []
  }
 ],
 "metadata": {
  "kernelspec": {
   "display_name": "Python 3",
   "language": "python",
   "name": "python3"
  },
  "language_info": {
   "codemirror_mode": {
    "name": "ipython",
    "version": 3
   },
   "file_extension": ".py",
   "mimetype": "text/x-python",
   "name": "python",
   "nbconvert_exporter": "python",
   "pygments_lexer": "ipython3",
   "version": "3.6.7"
  }
 },
 "nbformat": 4,
 "nbformat_minor": 2
}
